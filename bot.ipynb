{
  "nbformat": 4,
  "nbformat_minor": 0,
  "metadata": {
    "colab": {
      "name": "bot.ipynb",
      "provenance": [],
      "collapsed_sections": []
    },
    "kernelspec": {
      "name": "python3",
      "display_name": "Python 3"
    }
  },
  "cells": [
    {
      "cell_type": "markdown",
      "metadata": {
        "id": "uPHbStHFImAj",
        "colab_type": "text"
      },
      "source": [
        "# **installing Modules**"
      ]
    },
    {
      "cell_type": "code",
      "metadata": {
        "id": "oVGAauJPIdMB",
        "colab_type": "code",
        "colab": {
          "base_uri": "https://localhost:8080/",
          "height": 34
        },
        "outputId": "c4821c6b-3e44-4443-c989-5c5a7fadf21d"
      },
      "source": [
        "!pip install fpdf"
      ],
      "execution_count": 1,
      "outputs": [
        {
          "output_type": "stream",
          "text": [
            "Requirement already satisfied: fpdf in /usr/local/lib/python3.6/dist-packages (1.7.2)\n"
          ],
          "name": "stdout"
        }
      ]
    },
    {
      "cell_type": "code",
      "metadata": {
        "id": "oUouaDGoItZ_",
        "colab_type": "code",
        "colab": {
          "base_uri": "https://localhost:8080/",
          "height": 51
        },
        "outputId": "a8c89ac7-9257-4bda-e061-6aaf5e98949d"
      },
      "source": [
        "!pip install telebot"
      ],
      "execution_count": 2,
      "outputs": [
        {
          "output_type": "stream",
          "text": [
            "Requirement already satisfied: telebot in /usr/local/lib/python3.6/dist-packages (0.0.3)\n",
            "Requirement already satisfied: requests==2.7.0 in /usr/local/lib/python3.6/dist-packages (from telebot) (2.7.0)\n"
          ],
          "name": "stdout"
        }
      ]
    },
    {
      "cell_type": "code",
      "metadata": {
        "id": "wMC1tUGPIdBs",
        "colab_type": "code",
        "colab": {
          "base_uri": "https://localhost:8080/",
          "height": 68
        },
        "outputId": "b7610520-557a-47e1-8ff8-d27cacc6746e"
      },
      "source": [
        "!pip install pyTelegramBotAPI"
      ],
      "execution_count": 3,
      "outputs": [
        {
          "output_type": "stream",
          "text": [
            "Requirement already satisfied: pyTelegramBotAPI in /usr/local/lib/python3.6/dist-packages (3.7.1)\n",
            "Requirement already satisfied: requests in /usr/local/lib/python3.6/dist-packages (from pyTelegramBotAPI) (2.7.0)\n",
            "Requirement already satisfied: six in /usr/local/lib/python3.6/dist-packages (from pyTelegramBotAPI) (1.12.0)\n"
          ],
          "name": "stdout"
        }
      ]
    },
    {
      "cell_type": "markdown",
      "metadata": {
        "id": "kY9SSr0yIYwb",
        "colab_type": "text"
      },
      "source": [
        "# **Modules**"
      ]
    },
    {
      "cell_type": "code",
      "metadata": {
        "id": "qubTZL_uW8Ut",
        "colab_type": "code",
        "colab": {
          "base_uri": "https://localhost:8080/",
          "height": 136
        },
        "outputId": "60e808db-53fa-48c6-e23c-ff2dcc07d6a8"
      },
      "source": [
        "import pandas as pd\n",
        "import nltk\n",
        "import numpy as np\n",
        "import string\n",
        "import warnings\n",
        "import requests\n",
        "import pickle\n",
        "import random\n",
        "\n",
        "from sklearn.feature_extraction.text import TfidfVectorizer\n",
        "from sklearn.metrics.pairwise import cosine_similarity\n",
        "nltk.download('wordnet')\n",
        "nltk.download('stopwords')\n",
        "nltk.download('punkt')\n"
      ],
      "execution_count": 1,
      "outputs": [
        {
          "output_type": "stream",
          "text": [
            "[nltk_data] Downloading package wordnet to /root/nltk_data...\n",
            "[nltk_data]   Package wordnet is already up-to-date!\n",
            "[nltk_data] Downloading package stopwords to /root/nltk_data...\n",
            "[nltk_data]   Package stopwords is already up-to-date!\n",
            "[nltk_data] Downloading package punkt to /root/nltk_data...\n",
            "[nltk_data]   Package punkt is already up-to-date!\n"
          ],
          "name": "stdout"
        },
        {
          "output_type": "execute_result",
          "data": {
            "text/plain": [
              "True"
            ]
          },
          "metadata": {
            "tags": []
          },
          "execution_count": 1
        }
      ]
    },
    {
      "cell_type": "markdown",
      "metadata": {
        "id": "gohcImQPIu8T",
        "colab_type": "text"
      },
      "source": [
        "# *Replies***"
      ]
    },
    {
      "cell_type": "code",
      "metadata": {
        "id": "v2Yjt4_Jh9vG",
        "colab_type": "code",
        "colab": {}
      },
      "source": [
        "\n",
        "data = {\n",
        "        0 : [\"Yes\"],\n",
        "        1 :  [\"No\"],\n",
        "        2 :  [\"Cancel Order\"],\n",
        "        3 :   [\"Res Turant Foods is a multicuisine restaurant with user ratings : 4.5 here you find all yours favourite dishes we provide high quality food to our cutomers at affordable price \"],\n",
        "        4 :   [\"Our rating is 4.5\"],\n",
        "        5 :   [\"if i recommend you some dishes than it should be cheese pakoda,veg panner tikka,veg maharaja\",\"according to me you can try cheese pakoda yumm😋\",\"try veg panner tikka 🤤\" ,\"some special dishes are veg panner tikka ,veg maharaja missal\"],\n",
        "        6 :   [\"yeah true food is secret of energy\",\"yeah so true\"],\n",
        "        7:    [\"hello\",\"hey\",\"Hello Welcome\",\"Welcome to Resturant Foods\"],\n",
        "        8 :  [\"order\"],\n",
        "        9:  [\"yeah Great \"]\n",
        "       \n",
        "}"
      ],
      "execution_count": 2,
      "outputs": []
    },
    {
      "cell_type": "code",
      "metadata": {
        "id": "MR1s5uhxO5i2",
        "colab_type": "code",
        "colab": {}
      },
      "source": [
        "para = \"\"\"  Good Morning 🌞.\n",
        "            GoodMorning 🌞.\n",
        "            Good Afternoon 🌞 .\n",
        "            GoodAfternoon 🌞 .\n",
        "            Good Night 🌚 .\n",
        "            GoodNight 🌚 .\n",
        "            GoodEvening .\n",
        "            Good Evening .\n",
        "            My Creator is Arpit .\n",
        "            \n",
        "          \"\"\"\n"
      ],
      "execution_count": 3,
      "outputs": []
    },
    {
      "cell_type": "markdown",
      "metadata": {
        "id": "xAzCiQblIy1O",
        "colab_type": "text"
      },
      "source": [
        "# **Text processing**"
      ]
    },
    {
      "cell_type": "code",
      "metadata": {
        "id": "nTz9qTebRQON",
        "colab_type": "code",
        "colab": {}
      },
      "source": [
        "para=para.lower()"
      ],
      "execution_count": 4,
      "outputs": []
    },
    {
      "cell_type": "code",
      "metadata": {
        "id": "oNLghUQcRQ0n",
        "colab_type": "code",
        "colab": {}
      },
      "source": [
        "sent_tokens = nltk.sent_tokenize(para)\n",
        "word_tokens = nltk.word_tokenize(para)"
      ],
      "execution_count": 5,
      "outputs": []
    },
    {
      "cell_type": "code",
      "metadata": {
        "id": "SKVTwI7vRTvs",
        "colab_type": "code",
        "colab": {}
      },
      "source": [
        "lemmer = nltk.stem.WordNetLemmatizer()"
      ],
      "execution_count": 6,
      "outputs": []
    },
    {
      "cell_type": "code",
      "metadata": {
        "id": "a7xxYRZMRWWo",
        "colab_type": "code",
        "colab": {}
      },
      "source": [
        "def LemTokens(tokens):\n",
        "    return [lemmer.lemmatize(token) for token in tokens]"
      ],
      "execution_count": 7,
      "outputs": []
    },
    {
      "cell_type": "code",
      "metadata": {
        "id": "lIVqNT8KRffy",
        "colab_type": "code",
        "colab": {}
      },
      "source": [
        "remove_punct_dict = dict((ord(punct), None) for punct in string.punctuation)"
      ],
      "execution_count": 8,
      "outputs": []
    },
    {
      "cell_type": "code",
      "metadata": {
        "id": "c60IK8wNRh6P",
        "colab_type": "code",
        "colab": {}
      },
      "source": [
        "def Normalize(text):\n",
        "    return LemTokens(nltk.word_tokenize(text.lower().translate(remove_punct_dict)))\n",
        "    "
      ],
      "execution_count": 9,
      "outputs": []
    },
    {
      "cell_type": "code",
      "metadata": {
        "id": "lbs2u_I0GlNR",
        "colab_type": "code",
        "colab": {}
      },
      "source": [
        ""
      ],
      "execution_count": 9,
      "outputs": []
    },
    {
      "cell_type": "markdown",
      "metadata": {
        "id": "pwiROUuwHtmF",
        "colab_type": "text"
      },
      "source": [
        "# **Model Training**"
      ]
    },
    {
      "cell_type": "code",
      "metadata": {
        "id": "nnY70qu31CkE",
        "colab_type": "code",
        "colab": {
          "base_uri": "https://localhost:8080/",
          "height": 197
        },
        "outputId": "9da6763e-1061-4c58-9292-4ae9460dbd6e"
      },
      "source": [
        "df = pd.read_csv(\"botmad.csv\")\n",
        "df.head()"
      ],
      "execution_count": 10,
      "outputs": [
        {
          "output_type": "execute_result",
          "data": {
            "text/html": [
              "<div>\n",
              "<style scoped>\n",
              "    .dataframe tbody tr th:only-of-type {\n",
              "        vertical-align: middle;\n",
              "    }\n",
              "\n",
              "    .dataframe tbody tr th {\n",
              "        vertical-align: top;\n",
              "    }\n",
              "\n",
              "    .dataframe thead th {\n",
              "        text-align: right;\n",
              "    }\n",
              "</style>\n",
              "<table border=\"1\" class=\"dataframe\">\n",
              "  <thead>\n",
              "    <tr style=\"text-align: right;\">\n",
              "      <th></th>\n",
              "      <th>label</th>\n",
              "      <th>class</th>\n",
              "    </tr>\n",
              "  </thead>\n",
              "  <tbody>\n",
              "    <tr>\n",
              "      <th>0</th>\n",
              "      <td>Yes I would like to order</td>\n",
              "      <td>0</td>\n",
              "    </tr>\n",
              "    <tr>\n",
              "      <th>1</th>\n",
              "      <td>yes I'm very hungry</td>\n",
              "      <td>0</td>\n",
              "    </tr>\n",
              "    <tr>\n",
              "      <th>2</th>\n",
              "      <td>yep</td>\n",
              "      <td>0</td>\n",
              "    </tr>\n",
              "    <tr>\n",
              "      <th>3</th>\n",
              "      <td>y</td>\n",
              "      <td>0</td>\n",
              "    </tr>\n",
              "    <tr>\n",
              "      <th>4</th>\n",
              "      <td>ye</td>\n",
              "      <td>0</td>\n",
              "    </tr>\n",
              "  </tbody>\n",
              "</table>\n",
              "</div>"
            ],
            "text/plain": [
              "                       label  class\n",
              "0  Yes I would like to order      0\n",
              "1        yes I'm very hungry      0\n",
              "2                        yep      0\n",
              "3                          y      0\n",
              "4                         ye      0"
            ]
          },
          "metadata": {
            "tags": []
          },
          "execution_count": 10
        }
      ]
    },
    {
      "cell_type": "code",
      "metadata": {
        "id": "ZG_vaHGXGcoj",
        "colab_type": "code",
        "colab": {}
      },
      "source": [
        "from sklearn.ensemble import RandomForestClassifier"
      ],
      "execution_count": 11,
      "outputs": []
    },
    {
      "cell_type": "code",
      "metadata": {
        "id": "lbvIPCFWGck4",
        "colab_type": "code",
        "colab": {}
      },
      "source": [
        "x = df['label']\n",
        "y = df['class']"
      ],
      "execution_count": 12,
      "outputs": []
    },
    {
      "cell_type": "code",
      "metadata": {
        "id": "8kQ5oH4QGcjn",
        "colab_type": "code",
        "colab": {}
      },
      "source": [
        "Vec = TfidfVectorizer(tokenizer=Normalize,stop_words = 'english')"
      ],
      "execution_count": 13,
      "outputs": []
    },
    {
      "cell_type": "code",
      "metadata": {
        "id": "HVf-W_a1Gcga",
        "colab_type": "code",
        "colab": {
          "base_uri": "https://localhost:8080/",
          "height": 71
        },
        "outputId": "31901a4b-3e1b-4b4e-fe8a-1ef837ba183d"
      },
      "source": [
        "feature = Vec.fit_transform(x)"
      ],
      "execution_count": 14,
      "outputs": [
        {
          "output_type": "stream",
          "text": [
            "/usr/local/lib/python3.6/dist-packages/sklearn/feature_extraction/text.py:385: UserWarning: Your stop_words may be inconsistent with your preprocessing. Tokenizing the stop words generated tokens ['ha', 'le', 'u', 'wa'] not in stop_words.\n",
            "  'stop_words.' % sorted(inconsistent))\n"
          ],
          "name": "stderr"
        }
      ]
    },
    {
      "cell_type": "code",
      "metadata": {
        "id": "9KrJiZuuGcfC",
        "colab_type": "code",
        "colab": {}
      },
      "source": [
        "clf  = RandomForestClassifier(n_estimators = 30)"
      ],
      "execution_count": 15,
      "outputs": []
    },
    {
      "cell_type": "code",
      "metadata": {
        "id": "BlyBWi80Gccc",
        "colab_type": "code",
        "colab": {
          "base_uri": "https://localhost:8080/",
          "height": 153
        },
        "outputId": "cc37b681-bcd3-4ca2-f181-f65b17cf7206"
      },
      "source": [
        "clf.fit(feature,y)"
      ],
      "execution_count": 16,
      "outputs": [
        {
          "output_type": "execute_result",
          "data": {
            "text/plain": [
              "RandomForestClassifier(bootstrap=True, ccp_alpha=0.0, class_weight=None,\n",
              "                       criterion='gini', max_depth=None, max_features='auto',\n",
              "                       max_leaf_nodes=None, max_samples=None,\n",
              "                       min_impurity_decrease=0.0, min_impurity_split=None,\n",
              "                       min_samples_leaf=1, min_samples_split=2,\n",
              "                       min_weight_fraction_leaf=0.0, n_estimators=30,\n",
              "                       n_jobs=None, oob_score=False, random_state=None,\n",
              "                       verbose=0, warm_start=False)"
            ]
          },
          "metadata": {
            "tags": []
          },
          "execution_count": 16
        }
      ]
    },
    {
      "cell_type": "code",
      "metadata": {
        "id": "-TXxPN4DGca4",
        "colab_type": "code",
        "colab": {}
      },
      "source": [
        "test = [\"No\"]\n",
        "a = clf.predict_proba(Vec.transform(test))[0]"
      ],
      "execution_count": 17,
      "outputs": []
    },
    {
      "cell_type": "code",
      "metadata": {
        "id": "vsxW7f0BGcWy",
        "colab_type": "code",
        "colab": {}
      },
      "source": [
        ""
      ],
      "execution_count": 17,
      "outputs": []
    },
    {
      "cell_type": "code",
      "metadata": {
        "id": "MKa4jVkvGcT1",
        "colab_type": "code",
        "colab": {}
      },
      "source": [
        ""
      ],
      "execution_count": 17,
      "outputs": []
    },
    {
      "cell_type": "markdown",
      "metadata": {
        "id": "Fjz4yI52H1Lb",
        "colab_type": "text"
      },
      "source": [
        "# **Generating Bill**"
      ]
    },
    {
      "cell_type": "code",
      "metadata": {
        "id": "9TfmA7nEGcSg",
        "colab_type": "code",
        "colab": {}
      },
      "source": [
        "from datetime import date\n",
        "\n",
        "today = date.today()\n"
      ],
      "execution_count": 18,
      "outputs": []
    },
    {
      "cell_type": "code",
      "metadata": {
        "id": "-eY-C0y59WPs",
        "colab_type": "code",
        "colab": {
          "base_uri": "https://localhost:8080/",
          "height": 227
        },
        "outputId": "4b35733c-abac-40d5-e636-1c900515b2d9"
      },
      "source": [
        "menu = pd.read_csv(\"menu.csv\")\n",
        "menu['i'] = menu['id']\n",
        "menu = menu.set_index('id')\n",
        "menu.head()"
      ],
      "execution_count": 19,
      "outputs": [
        {
          "output_type": "execute_result",
          "data": {
            "text/html": [
              "<div>\n",
              "<style scoped>\n",
              "    .dataframe tbody tr th:only-of-type {\n",
              "        vertical-align: middle;\n",
              "    }\n",
              "\n",
              "    .dataframe tbody tr th {\n",
              "        vertical-align: top;\n",
              "    }\n",
              "\n",
              "    .dataframe thead th {\n",
              "        text-align: right;\n",
              "    }\n",
              "</style>\n",
              "<table border=\"1\" class=\"dataframe\">\n",
              "  <thead>\n",
              "    <tr style=\"text-align: right;\">\n",
              "      <th></th>\n",
              "      <th>name</th>\n",
              "      <th>Unnamed: 2</th>\n",
              "      <th>rate</th>\n",
              "      <th>i</th>\n",
              "    </tr>\n",
              "    <tr>\n",
              "      <th>id</th>\n",
              "      <th></th>\n",
              "      <th></th>\n",
              "      <th></th>\n",
              "      <th></th>\n",
              "    </tr>\n",
              "  </thead>\n",
              "  <tbody>\n",
              "    <tr>\n",
              "      <th>1</th>\n",
              "      <td>Ussal</td>\n",
              "      <td>NaN</td>\n",
              "      <td>25</td>\n",
              "      <td>1</td>\n",
              "    </tr>\n",
              "    <tr>\n",
              "      <th>2</th>\n",
              "      <td>Missal</td>\n",
              "      <td>NaN</td>\n",
              "      <td>30</td>\n",
              "      <td>2</td>\n",
              "    </tr>\n",
              "    <tr>\n",
              "      <th>3</th>\n",
              "      <td>Dahi Missal</td>\n",
              "      <td>NaN</td>\n",
              "      <td>40</td>\n",
              "      <td>3</td>\n",
              "    </tr>\n",
              "    <tr>\n",
              "      <th>4</th>\n",
              "      <td>Pav</td>\n",
              "      <td>NaN</td>\n",
              "      <td>5</td>\n",
              "      <td>4</td>\n",
              "    </tr>\n",
              "    <tr>\n",
              "      <th>5</th>\n",
              "      <td>Garam Pav</td>\n",
              "      <td>NaN</td>\n",
              "      <td>6</td>\n",
              "      <td>5</td>\n",
              "    </tr>\n",
              "  </tbody>\n",
              "</table>\n",
              "</div>"
            ],
            "text/plain": [
              "           name  Unnamed: 2  rate  i\n",
              "id                                  \n",
              "1         Ussal         NaN    25  1\n",
              "2        Missal         NaN    30  2\n",
              "3   Dahi Missal         NaN    40  3\n",
              "4           Pav         NaN     5  4\n",
              "5     Garam Pav         NaN     6  5"
            ]
          },
          "metadata": {
            "tags": []
          },
          "execution_count": 19
        }
      ]
    },
    {
      "cell_type": "code",
      "metadata": {
        "id": "sbdikLz7hvuY",
        "colab_type": "code",
        "colab": {
          "base_uri": "https://localhost:8080/",
          "height": 34
        },
        "outputId": "053ecfac-2989-4d2b-a3c8-d4365557aaf2"
      },
      "source": [
        "a = str(menu[menu['i'] == 1]).split(\"\\n\")[2].split()\n",
        "a[1:-3]"
      ],
      "execution_count": 20,
      "outputs": [
        {
          "output_type": "execute_result",
          "data": {
            "text/plain": [
              "['Ussal']"
            ]
          },
          "metadata": {
            "tags": []
          },
          "execution_count": 20
        }
      ]
    },
    {
      "cell_type": "code",
      "metadata": {
        "id": "H5MDeIfXz2KM",
        "colab_type": "code",
        "colab": {}
      },
      "source": [
        "def getbill(detail):\n",
        "      s = create_receipt(detail[0]['name'],detail[1]['contact'],detail[2]['orders'])\n",
        "      bot.send_document(from_,open('bill.pdf', 'rb'));\n",
        "      share = 0\n",
        "      detail = []\n",
        "      tbot.send_message(\"thank you for ordering food your order is on the way this is your bill of amount \"+str(s),from_)\n",
        "      \n",
        "def create_receipt(name,contact,orders):\n",
        "      d = date.today()\n",
        "      s = 0\n",
        "      f = open(\"bill.txt\",\"w\")\n",
        "      f.write(\"\"\"\\n\\n\\tRes turant Foods\\n\"\"\")\n",
        "      f.write(\"\"\"\\t-------------------\\t\\t\\n\\n\\t\\tINVOICE\\t\\t\\n\\n\"\"\")\n",
        "      f.write(\"Date : \"+str(d)+\"\\n\")\n",
        "      f.write(\"Name : \"+name+\"\\t\\t Mob no :\"+contact+\"\\n\")\n",
        "      for i in orders:\n",
        "        try:\n",
        "          i =  int(i)\n",
        "        except:\n",
        "          continue\n",
        "        print(\"i === \",type(i),i,orders)\n",
        "        order = str(menu[menu['i'] == i]).split(\"\\n\")[2].split()\n",
        "        s = s + int(order[-2])\n",
        "        f.write(\"\"\"\\t\"\"\"+\" \".join(order[1:-3])+\"\"\"   \"\"\"+order[-2]+\"\"\"\\n\"\"\")\n",
        "      f.write(\"\"\"-----------------------\\nTotal Bill \\t\\t\"\"\"+str(s))\n",
        "      f.close()\n",
        "      from fpdf import FPDF \n",
        "      pdf = FPDF()      \n",
        "      pdf.add_page() \n",
        "      pdf.set_font(\"Arial\", size = 15) \n",
        "      f = open(\"bill.txt\", \"r\") \n",
        "      for x in f: \n",
        "        pdf.cell(200, 10, txt = x, ln = 1, align = 'C') \n",
        "      pdf.output(\"bill.pdf\")  \n",
        "      return s"
      ],
      "execution_count": 21,
      "outputs": []
    },
    {
      "cell_type": "markdown",
      "metadata": {
        "id": "VDhhi6raH6Ln",
        "colab_type": "text"
      },
      "source": [
        "# **Creating Response**"
      ]
    },
    {
      "cell_type": "code",
      "metadata": {
        "id": "GWk-ChDiRnnd",
        "colab_type": "code",
        "colab": {}
      },
      "source": [
        "import random\n",
        "def response(user_response):\n",
        "      robo_response=''\n",
        "      sent_tokens.append(user_response)\n",
        "      TfidfVec = TfidfVectorizer(tokenizer=Normalize,stop_words = 'english')\n",
        "      tfidf = TfidfVec.fit_transform(sent_tokens)\n",
        "      vals = cosine_similarity(tfidf[-1], tfidf)  \n",
        "      idx=vals.argsort()[0][-2]\n",
        "      flat = vals.flatten() \n",
        "      flat.sort()\n",
        "      req_tfidf = flat[-2]\n",
        "      if(req_tfidf==0):\n",
        "          pred = clf.predict_proba(Vec.transform([user_response]))[0]\n",
        "          a = pred.argsort()[-1]\n",
        "          if pred[a] >= 0.6:\n",
        "            print(a,\"\\n\\n\",random.choice(data[a]))\n",
        "            return random.choice(data[a])\n",
        "          else:\n",
        "            ran = [\"sorry , i don't know what is that \",\"sorry, i didn't understand this\",\"Sorry for inconvience i'm not able to understand\",\"please try other ques i'm not able to understand this\"]\n",
        "            robo_response=robo_response+random.choice(ran)\n",
        "            return robo_response\n",
        "      else:\n",
        "          robo_response = robo_response + sent_tokens[idx]\n",
        "          return robo_response\n"
      ],
      "execution_count": 22,
      "outputs": []
    },
    {
      "cell_type": "markdown",
      "metadata": {
        "id": "PVom_HqiH95X",
        "colab_type": "text"
      },
      "source": [
        "# **Accesing Bot**"
      ]
    },
    {
      "cell_type": "code",
      "metadata": {
        "id": "POhd_ld5R55w",
        "colab_type": "code",
        "colab": {}
      },
      "source": [
        "import json\n",
        "token = \"1123219618:AAEZI91C-EHuJPUoTwZvR2R2W0Vg3YWGnKI\"\n",
        "\n",
        "class telegram_bot():\n",
        "    def __init__(self):\n",
        "        self.token=token \n",
        "        self.url = f\"https://api.telegram.org/bot{self.token}\"\n",
        "\n",
        "    def get_updates(self,offset=None):\n",
        "        url = self.url+\"/getUpdates?timeout=100\"\n",
        "        if offset:\n",
        "            url = url+f\"&offset={offset+1}\"\n",
        "        url_info = requests.get(url)\n",
        "        return json.loads(url_info.content)\n",
        "    def send_message(self,msg,chat_id):\n",
        "        url = self.url + f\"/sendMessage?chat_id={chat_id}&text={msg}\"\n",
        "        if msg is not None:\n",
        "            requests.get(url)\n",
        "\n",
        "    def grab_token(self):\n",
        "        return tokens"
      ],
      "execution_count": 23,
      "outputs": []
    },
    {
      "cell_type": "code",
      "metadata": {
        "id": "zgp3OIWKATxD",
        "colab_type": "code",
        "colab": {}
      },
      "source": [
        "import telebot\n",
        "bot = telebot.TeleBot(token)"
      ],
      "execution_count": 24,
      "outputs": []
    },
    {
      "cell_type": "markdown",
      "metadata": {
        "id": "GyfJExQLIC6h",
        "colab_type": "text"
      },
      "source": [
        "# **Creating Markups**"
      ]
    },
    {
      "cell_type": "code",
      "metadata": {
        "id": "_nHNahf5ATlp",
        "colab_type": "code",
        "colab": {}
      },
      "source": [
        "from telebot import types\n",
        "\n",
        "#yes No Markups \n",
        "markup = types.ReplyKeyboardMarkup()\n",
        "markup.add('Yes', 'No')\n",
        "\n",
        "#markup share contact\n",
        "contact_keyboard = types.KeyboardButton(text=\"send_contact\", request_contact=True)\n",
        "reply_markup = types.ReplyKeyboardMarkup()\n",
        "reply_markup.add(contact_keyboard)\n",
        "\n",
        "#cancel\n",
        "cancel = types.ReplyKeyboardMarkup()\n",
        "cancel.add('Cancel Order')\n",
        "\n",
        "#none markup\n",
        "m = types.ReplyKeyboardMarkup()\n",
        "m.add('No')\n",
        "\n"
      ],
      "execution_count": 25,
      "outputs": []
    },
    {
      "cell_type": "markdown",
      "metadata": {
        "id": "rsu4cpx1IGXN",
        "colab_type": "text"
      },
      "source": [
        "# **Deploying bot on telegram and make reply**"
      ]
    },
    {
      "cell_type": "code",
      "metadata": {
        "id": "iWcvXzmLSgeE",
        "colab_type": "code",
        "colab": {
          "base_uri": "https://localhost:8080/",
          "height": 1000
        },
        "outputId": "7abfe080-928c-4e29-a6f1-b5c4b3221644"
      },
      "source": [
        "tbot = telegram_bot()\n",
        "update_id = None\n",
        "def make_reply(name,msg):\n",
        "    if msg is not None:\n",
        "        flag=True\n",
        "        if msg == '/start':\n",
        "          return \"hello \" + name + \" Welocme to resturant foods Want to order write order\"\n",
        "        while(flag==True):\n",
        "            user_response = msg\n",
        "            user_response=user_response.lower()\n",
        "            if(user_response!='bye'):\n",
        "                if(user_response=='thanks' or user_response=='thank you' ):\n",
        "                    flag=False\n",
        "                    return \"Welcome 😇 \"\n",
        "                else:\n",
        "                    r =  response(user_response)\n",
        "                    try:\n",
        "                      sent_tokens.remove(user_response)\n",
        "                    except: \n",
        "                      pass      \n",
        "                    return r\n",
        "            else:\n",
        "                flag=False\n",
        "                bye = [\"Bye Byee !!\",\"Bye Thank you for contacting us\",\"Bye\"]\n",
        "                return random.choice(bye)\n",
        "\n",
        "\n",
        "share = 0 \n",
        "detail = []  \n",
        "message = ''\n",
        "reply = ''\n",
        "while True:\n",
        "    print(\"...\")\n",
        "    updates = tbot.get_updates(offset=update_id)\n",
        "    updates = updates['result']\n",
        "    name = updates[0]['message']['from']['first_name']\n",
        "    print(updates)\n",
        "    m = message\n",
        "    if updates:\n",
        "        for item in updates:\n",
        "            update_id = item[\"update_id\"]\n",
        "            print(update_id)\n",
        "            try:\n",
        "                message = item[\"message\"][\"text\"]\n",
        "                print(message)\n",
        "            except:\n",
        "                message = None\n",
        "            from_ = item[\"message\"][\"from\"][\"id\"]\n",
        "            print(from_)\n",
        "\n",
        "\n",
        "            try :\n",
        "                reply = make_reply(name,message)\n",
        "            except:\n",
        "              reply = \"\"\n",
        " \n",
        "         \n",
        "            \n",
        "\n",
        "\n",
        "            if reply == \"order\" or message == \"order\":\n",
        "              share = 1\n",
        "              detail = []\n",
        "              detail.append({'name':name})\n",
        "              bot.send_message(from_, text = \"Hello \"+name+\" would u like to order something Press no if you mistakely come in this menu\", reply_markup=markup)\n",
        "\n",
        "    \n",
        "            elif share == 1:\n",
        "                if reply == 'Yes' or message == 'Yes':\n",
        "                  share = 2\n",
        "                  bot.send_message(chat_id=from_, text=\"Can you plz share your Contact number\", reply_markup=reply_markup)\n",
        "\n",
        "            elif share == 2:\n",
        "                share = 3\n",
        "                m = item['message']['contact']['phone_number']\n",
        "                detail.append({'contact':m})\n",
        "                bot.send_photo(chat_id=from_, photo=open('menu.jpg', 'rb'))\n",
        "                bot.send_message(chat_id = from_,text = \"Enter the serial number of digit you want to order like 2,5,6\",reply_markup = cancel)\n",
        "\n",
        "            elif share == 3:\n",
        "                share = 4\n",
        "                if reply  == \"Cancel Order\" and message == \"Cancel Order\":\n",
        "                  share = 0\n",
        "                  bot.send_message(chat_id = from_,text = \"order cancel\")\n",
        "                else:\n",
        "                  detail.append({'orders' :message.split(',')})\n",
        "                  bot.send_message(chat_id = from_,text=\"Want to order Something else\",reply_markup = markup)\n",
        "\n",
        "            elif share == 4:\n",
        "                print(\"message ==== \",message)\n",
        "                share = 7\n",
        "                if reply  == \"Yes\" or message == \"Yes\":\n",
        "                      tbot.send_message(\"ok send another serial numbers\",from_)\n",
        "                if reply == \"No\" or message == \"No\":\n",
        "                  getbill(detail)\n",
        "\n",
        "\n",
        "     \n",
        "            elif share == 7:\n",
        "                  for i in message.split(','):\n",
        "                      detail[-1]['orders'].append(i) \n",
        "                  share = 6\n",
        "                  getbill(detail)\n",
        "\n",
        "\n",
        "            elif message == \"Cancel Order\" or reply == \"Cancel Order\":\n",
        "              bot.send_message(chat_id = from_,text=\"order cancelled\")\n",
        "            elif message == \"No\" or reply == \"No\":\n",
        "              bot.send_message(chat_id = from_,text = \"👍\")\n",
        "            \n",
        " \n",
        "\n",
        "            \n",
        "            elif reply not in [data[0][0],data[1][0],data[2][0],data[8][0],\"\",None] :\n",
        "                print(\"\\n\\n share ====\",share,\"\\n\\n\")\n",
        "                try:\n",
        "                  tbot.send_message(reply,from_)\n",
        "                except:\n",
        "                  print(\"r ======\",reply)\n",
        "                continue\n",
        "            \n",
        "\n",
        "           \n"
      ],
      "execution_count": 27,
      "outputs": [
        {
          "output_type": "stream",
          "text": [
            "...\n",
            "[{'update_id': 128052590, 'message': {'message_id': 747, 'from': {'id': 976521729, 'is_bot': False, 'first_name': 'Arpit', 'last_name': 'Chauhan', 'username': 'arpit09chauhan', 'language_code': 'en'}, 'chat': {'id': 976521729, 'first_name': 'Arpit', 'last_name': 'Chauhan', 'username': 'arpit09chauhan', 'type': 'private'}, 'date': 1592603773, 'text': 'wants to order'}}, {'update_id': 128052591, 'message': {'message_id': 748, 'from': {'id': 976521729, 'is_bot': False, 'first_name': 'Arpit', 'last_name': 'Chauhan', 'username': 'arpit09chauhan', 'language_code': 'en'}, 'chat': {'id': 976521729, 'first_name': 'Arpit', 'last_name': 'Chauhan', 'username': 'arpit09chauhan', 'type': 'private'}, 'date': 1592603781, 'text': 'i want to order food'}}]\n",
            "128052590\n",
            "wants to order\n",
            "976521729\n",
            "8 \n",
            "\n",
            " order\n"
          ],
          "name": "stdout"
        },
        {
          "output_type": "stream",
          "text": [
            "/usr/local/lib/python3.6/dist-packages/sklearn/feature_extraction/text.py:385: UserWarning: Your stop_words may be inconsistent with your preprocessing. Tokenizing the stop words generated tokens ['ha', 'le', 'u', 'wa'] not in stop_words.\n",
            "  'stop_words.' % sorted(inconsistent))\n"
          ],
          "name": "stderr"
        },
        {
          "output_type": "stream",
          "text": [
            "128052591\n",
            "i want to order food\n",
            "976521729\n",
            "0 \n",
            "\n",
            " Yes\n"
          ],
          "name": "stdout"
        },
        {
          "output_type": "stream",
          "text": [
            "/usr/local/lib/python3.6/dist-packages/sklearn/feature_extraction/text.py:385: UserWarning: Your stop_words may be inconsistent with your preprocessing. Tokenizing the stop words generated tokens ['ha', 'le', 'u', 'wa'] not in stop_words.\n",
            "  'stop_words.' % sorted(inconsistent))\n"
          ],
          "name": "stderr"
        },
        {
          "output_type": "stream",
          "text": [
            "...\n",
            "[{'update_id': 128052592, 'message': {'message_id': 751, 'from': {'id': 976521729, 'is_bot': False, 'first_name': 'Arpit', 'last_name': 'Chauhan', 'username': 'arpit09chauhan', 'language_code': 'en'}, 'chat': {'id': 976521729, 'first_name': 'Arpit', 'last_name': 'Chauhan', 'username': 'arpit09chauhan', 'type': 'private'}, 'date': 1592603798, 'reply_to_message': {'message_id': 750, 'from': {'id': 1123219618, 'is_bot': True, 'first_name': 'Resturants_Food😋_bot', 'username': 'corona_virus_information_bot'}, 'chat': {'id': 976521729, 'first_name': 'Arpit', 'last_name': 'Chauhan', 'username': 'arpit09chauhan', 'type': 'private'}, 'date': 1592603793, 'text': 'Can you plz share your Contact number'}, 'contact': {'phone_number': '+916397365442', 'first_name': 'Arpit', 'last_name': 'Chauhan', 'user_id': 976521729}}}]\n",
            "128052592\n",
            "976521729\n",
            "...\n",
            "[{'update_id': 128052593, 'message': {'message_id': 754, 'from': {'id': 976521729, 'is_bot': False, 'first_name': 'Arpit', 'last_name': 'Chauhan', 'username': 'arpit09chauhan', 'language_code': 'en'}, 'chat': {'id': 976521729, 'first_name': 'Arpit', 'last_name': 'Chauhan', 'username': 'arpit09chauhan', 'type': 'private'}, 'date': 1592603807, 'text': '3,45'}}]\n",
            "128052593\n",
            "3,45\n",
            "976521729\n",
            "1 \n",
            "\n",
            " No\n"
          ],
          "name": "stdout"
        },
        {
          "output_type": "stream",
          "text": [
            "/usr/local/lib/python3.6/dist-packages/sklearn/feature_extraction/text.py:385: UserWarning: Your stop_words may be inconsistent with your preprocessing. Tokenizing the stop words generated tokens ['ha', 'le', 'u', 'wa'] not in stop_words.\n",
            "  'stop_words.' % sorted(inconsistent))\n"
          ],
          "name": "stderr"
        },
        {
          "output_type": "stream",
          "text": [
            "...\n",
            "[{'update_id': 128052594, 'message': {'message_id': 756, 'from': {'id': 976521729, 'is_bot': False, 'first_name': 'Arpit', 'last_name': 'Chauhan', 'username': 'arpit09chauhan', 'language_code': 'en'}, 'chat': {'id': 976521729, 'first_name': 'Arpit', 'last_name': 'Chauhan', 'username': 'arpit09chauhan', 'type': 'private'}, 'date': 1592603823, 'text': \"no that's sufficient\"}}]\n",
            "128052594\n",
            "no that's sufficient\n",
            "976521729\n",
            "1 \n",
            "\n",
            " No\n",
            "message ====  no that's sufficient\n",
            "i ===  <class 'int'> 3 ['3', '45']\n",
            "i ===  <class 'int'> 45 ['3', '45']\n"
          ],
          "name": "stdout"
        },
        {
          "output_type": "stream",
          "text": [
            "/usr/local/lib/python3.6/dist-packages/sklearn/feature_extraction/text.py:385: UserWarning: Your stop_words may be inconsistent with your preprocessing. Tokenizing the stop words generated tokens ['ha', 'le', 'u', 'wa'] not in stop_words.\n",
            "  'stop_words.' % sorted(inconsistent))\n"
          ],
          "name": "stderr"
        },
        {
          "output_type": "stream",
          "text": [
            "...\n",
            "[{'update_id': 128052595, 'message': {'message_id': 759, 'from': {'id': 976521729, 'is_bot': False, 'first_name': 'Arpit', 'last_name': 'Chauhan', 'username': 'arpit09chauhan', 'language_code': 'en'}, 'chat': {'id': 976521729, 'first_name': 'Arpit', 'last_name': 'Chauhan', 'username': 'arpit09chauhan', 'type': 'private'}, 'date': 1592603840, 'text': 'thanks'}}]\n",
            "128052595\n",
            "thanks\n",
            "976521729\n",
            "i ===  <class 'int'> 3 ['3', '45', 'thanks']\n",
            "i ===  <class 'int'> 45 ['3', '45', 'thanks']\n",
            "...\n",
            "[{'update_id': 128052596, 'message': {'message_id': 762, 'from': {'id': 976521729, 'is_bot': False, 'first_name': 'Arpit', 'last_name': 'Chauhan', 'username': 'arpit09chauhan', 'language_code': 'en'}, 'chat': {'id': 976521729, 'first_name': 'Arpit', 'last_name': 'Chauhan', 'username': 'arpit09chauhan', 'type': 'private'}, 'date': 1592603848, 'text': 'thank you'}}]\n",
            "128052596\n",
            "thank you\n",
            "976521729\n",
            "\n",
            "\n",
            " share ==== 6 \n",
            "\n",
            "\n",
            "...\n",
            "[{'update_id': 128052597, 'message': {'message_id': 764, 'from': {'id': 976521729, 'is_bot': False, 'first_name': 'Arpit', 'last_name': 'Chauhan', 'username': 'arpit09chauhan', 'language_code': 'en'}, 'chat': {'id': 976521729, 'first_name': 'Arpit', 'last_name': 'Chauhan', 'username': 'arpit09chauhan', 'type': 'private'}, 'date': 1592603851, 'text': 'thanks'}}]\n",
            "128052597\n",
            "thanks\n",
            "976521729\n",
            "\n",
            "\n",
            " share ==== 6 \n",
            "\n",
            "\n",
            "...\n"
          ],
          "name": "stdout"
        },
        {
          "output_type": "error",
          "ename": "IndexError",
          "evalue": "ignored",
          "traceback": [
            "\u001b[0;31m---------------------------------------------------------------------------\u001b[0m",
            "\u001b[0;31mIndexError\u001b[0m                                Traceback (most recent call last)",
            "\u001b[0;32m<ipython-input-27-06ae5ca1b647>\u001b[0m in \u001b[0;36m<module>\u001b[0;34m()\u001b[0m\n\u001b[1;32m     34\u001b[0m     \u001b[0mupdates\u001b[0m \u001b[0;34m=\u001b[0m \u001b[0mtbot\u001b[0m\u001b[0;34m.\u001b[0m\u001b[0mget_updates\u001b[0m\u001b[0;34m(\u001b[0m\u001b[0moffset\u001b[0m\u001b[0;34m=\u001b[0m\u001b[0mupdate_id\u001b[0m\u001b[0;34m)\u001b[0m\u001b[0;34m\u001b[0m\u001b[0;34m\u001b[0m\u001b[0m\n\u001b[1;32m     35\u001b[0m     \u001b[0mupdates\u001b[0m \u001b[0;34m=\u001b[0m \u001b[0mupdates\u001b[0m\u001b[0;34m[\u001b[0m\u001b[0;34m'result'\u001b[0m\u001b[0;34m]\u001b[0m\u001b[0;34m\u001b[0m\u001b[0;34m\u001b[0m\u001b[0m\n\u001b[0;32m---> 36\u001b[0;31m     \u001b[0mname\u001b[0m \u001b[0;34m=\u001b[0m \u001b[0mupdates\u001b[0m\u001b[0;34m[\u001b[0m\u001b[0;36m0\u001b[0m\u001b[0;34m]\u001b[0m\u001b[0;34m[\u001b[0m\u001b[0;34m'message'\u001b[0m\u001b[0;34m]\u001b[0m\u001b[0;34m[\u001b[0m\u001b[0;34m'from'\u001b[0m\u001b[0;34m]\u001b[0m\u001b[0;34m[\u001b[0m\u001b[0;34m'first_name'\u001b[0m\u001b[0;34m]\u001b[0m\u001b[0;34m\u001b[0m\u001b[0;34m\u001b[0m\u001b[0m\n\u001b[0m\u001b[1;32m     37\u001b[0m     \u001b[0mprint\u001b[0m\u001b[0;34m(\u001b[0m\u001b[0mupdates\u001b[0m\u001b[0;34m)\u001b[0m\u001b[0;34m\u001b[0m\u001b[0;34m\u001b[0m\u001b[0m\n\u001b[1;32m     38\u001b[0m     \u001b[0mm\u001b[0m \u001b[0;34m=\u001b[0m \u001b[0mmessage\u001b[0m\u001b[0;34m\u001b[0m\u001b[0;34m\u001b[0m\u001b[0m\n",
            "\u001b[0;31mIndexError\u001b[0m: list index out of range"
          ]
        }
      ]
    },
    {
      "cell_type": "markdown",
      "metadata": {
        "id": "4xLPFE6xgL4S",
        "colab_type": "text"
      },
      "source": [
        ""
      ]
    },
    {
      "cell_type": "markdown",
      "metadata": {
        "id": "zaFpdHLvkb1s",
        "colab_type": "text"
      },
      "source": [
        ""
      ]
    }
  ]
}